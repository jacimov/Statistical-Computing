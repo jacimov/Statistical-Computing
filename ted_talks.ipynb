{
 "cells": [
  {
   "cell_type": "markdown",
   "metadata": {},
   "source": [
    "<h1> TED talks data exploration </h1>"
   ]
  },
  {
   "cell_type": "code",
   "execution_count": 1,
   "metadata": {},
   "outputs": [],
   "source": [
    "import pandas as pd\n",
    "import matplotlib.pyplot as plt\n",
    "import seaborn as sns"
   ]
  },
  {
   "cell_type": "markdown",
   "metadata": {},
   "source": [
    "Add your code and comments below."
   ]
  },
  {
   "cell_type": "code",
   "execution_count": 2,
   "metadata": {},
   "outputs": [],
   "source": [
    "df = pd.read_csv('20221013_ted_talks.csv')"
   ]
  },
  {
   "cell_type": "code",
   "execution_count": 11,
   "metadata": {},
   "outputs": [
    {
     "name": "stdout",
     "output_type": "stream",
     "text": [
      "   talk_id                            title           speaker recorded_date  \\\n",
      "0        1      Averting the climate crisis           Al Gore    2006-02-25   \n",
      "1        7                 Simplicity sells       David Pogue    2006-02-24   \n",
      "2       53              Greening the ghetto     Majora Carter    2006-02-26   \n",
      "3       92  The best stats you've ever seen      Hans Rosling    2006-02-22   \n",
      "4       66      Do schools kill creativity?  Sir Ken Robinson    2006-02-25   \n",
      "\n",
      "  published_date    event  duration     views    likes  \n",
      "0     2006-06-27  TED2006       957   3681537   110000  \n",
      "1     2006-06-27  TED2006      1266   2012797    60000  \n",
      "2     2006-06-27  TED2006      1096   3006315    90000  \n",
      "3     2006-06-27  TED2006      1176  15432904   462000  \n",
      "4     2006-06-27  TED2006      1151  73935964  2200000  \n",
      " \n",
      "<class 'pandas.core.frame.DataFrame'>\n",
      "RangeIndex: 5701 entries, 0 to 5700\n",
      "Data columns (total 9 columns):\n",
      " #   Column          Non-Null Count  Dtype \n",
      "---  ------          --------------  ----- \n",
      " 0   talk_id         5701 non-null   int64 \n",
      " 1   title           5701 non-null   object\n",
      " 2   speaker         5700 non-null   object\n",
      " 3   recorded_date   5699 non-null   object\n",
      " 4   published_date  5701 non-null   object\n",
      " 5   event           5700 non-null   object\n",
      " 6   duration        5701 non-null   int64 \n",
      " 7   views           5701 non-null   int64 \n",
      " 8   likes           5701 non-null   int64 \n",
      "dtypes: int64(4), object(5)\n",
      "memory usage: 401.0+ KB\n",
      "None\n"
     ]
    }
   ],
   "source": [
    "# Basic Data Exploration\n",
    "print(df.head())\n",
    "print(\" \")\n",
    "print(df.info())"
   ]
  },
  {
   "cell_type": "markdown",
   "metadata": {},
   "source": [
    "I loaded the TED talks dataset containing 5,701 entries. The head() method shows me the first few rows of data, while info() reveals the data types of each column. My dataset includes talk titles, speakers, view counts, and dates stored as integers, floats, and strings."
   ]
  },
  {
   "cell_type": "code",
   "execution_count": 8,
   "metadata": {},
   "outputs": [
    {
     "name": "stdout",
     "output_type": "stream",
     "text": [
      "\n",
      "Summary Stats:\n",
      "            talk_id      duration         views         likes\n",
      "count   5701.000000   5701.000000  5.701000e+03  5.701000e+03\n",
      "mean   26577.133135    706.021751  2.147123e+06  6.386154e+04\n",
      "std    30530.857641    519.196825  3.711874e+06  1.098655e+05\n",
      "min        1.000000     60.000000  4.560000e+02  1.300000e+01\n",
      "25%     1660.000000    354.000000  6.859920e+05  2.000000e+04\n",
      "50%    10368.000000    679.000000  1.405696e+06  4.200000e+04\n",
      "75%    51783.000000    924.000000  2.189406e+06  6.500000e+04\n",
      "max    98843.000000  20404.000000  7.393596e+07  2.200000e+06\n"
     ]
    }
   ],
   "source": [
    "print(\"\\nSummary Stats:\")\n",
    "print(df.describe())"
   ]
  },
  {
   "cell_type": "markdown",
   "metadata": {},
   "source": [
    "I calculated basic statistics using describe(). The average TED talk is 13 minutes long. View counts vary widely, with some talks receiving many more views than others. This variation suggests that some talks resonate more strongly with viewers."
   ]
  },
  {
   "cell_type": "code",
   "execution_count": 9,
   "metadata": {},
   "outputs": [
    {
     "name": "stdout",
     "output_type": "stream",
     "text": [
      "\n",
      "Missing Values:\n",
      "talk_id           0\n",
      "title             0\n",
      "speaker           1\n",
      "recorded_date     2\n",
      "published_date    0\n",
      "event             1\n",
      "duration          0\n",
      "views             0\n",
      "likes             0\n",
      "dtype: int64\n"
     ]
    }
   ],
   "source": [
    "# Check for missing values\n",
    "print(\"\\nMissing Values:\")\n",
    "print(df.isna().sum())"
   ]
  },
  {
   "cell_type": "markdown",
   "metadata": {},
   "source": [
    "I checked for missing data using isna(). Most columns are complete, with very few missing values. This completeness means I can proceed with my analysis without extensive data cleaning."
   ]
  },
  {
   "cell_type": "code",
   "execution_count": 12,
   "metadata": {},
   "outputs": [
    {
     "name": "stdout",
     "output_type": "stream",
     "text": [
      "\n",
      "Distribution of talks by main speaker:\n",
      "speaker\n",
      "Alex Gendler        47\n",
      "Iseult Gillespie    37\n",
      "Matt Walker         18\n",
      "Alex Rosenthal      15\n",
      "Elizabeth Cox       15\n",
      "Name: count, dtype: int64\n"
     ]
    }
   ],
   "source": [
    "# Value counts for categorical columns\n",
    "print(\"\\nDistribution of talks by main speaker:\")\n",
    "print(df['speaker'].value_counts().head())"
   ]
  },
  {
   "cell_type": "markdown",
   "metadata": {},
   "source": [
    "I counted how many talks each speaker gave. Some speakers have given multiple talks, which tells me they are likely experts or influential voices in their fields."
   ]
  },
  {
   "cell_type": "code",
   "execution_count": 14,
   "metadata": {},
   "outputs": [
    {
     "name": "stdout",
     "output_type": "stream",
     "text": [
      "0       15.950000\n",
      "1       21.100000\n",
      "2       18.266667\n",
      "3       19.600000\n",
      "4       19.183333\n",
      "          ...    \n",
      "5696     6.500000\n",
      "5697     9.066667\n",
      "5698     3.500000\n",
      "5699     5.533333\n",
      "5700    12.383333\n",
      "Name: duration_hours, Length: 5701, dtype: float64\n"
     ]
    }
   ],
   "source": [
    "# New column\n",
    "df['duration_hours'] = df['duration'] / 60\n",
    "print(df['duration_hours'])"
   ]
  },
  {
   "cell_type": "markdown",
   "metadata": {},
   "source": [
    "I created a new column that converts talk duration from minutes to hours. This conversion helps me understand talk lengths in a more familiar unit of measurement."
   ]
  },
  {
   "cell_type": "code",
   "execution_count": 15,
   "metadata": {},
   "outputs": [
    {
     "name": "stdout",
     "output_type": "stream",
     "text": [
      "\n",
      "Top 5 most viewed talks:\n",
      "                                           title           speaker     views\n",
      "4                    Do schools kill creativity?  Sir Ken Robinson  73935964\n",
      "1339    Your body language may shape who you are         Amy Cuddy  66163329\n",
      "2150  Inside the mind of a master procrastinator         Tim Urban  63543965\n",
      "672             How great leaders inspire action       Simon Sinek  60129500\n",
      "831                   The power of vulnerability       Brené Brown  59438598\n"
     ]
    }
   ],
   "source": [
    "# Sort talks by views\n",
    "most_viewed = df.sort_values('views', ascending=False).head()\n",
    "print(\"\\nTop 5 most viewed talks:\")\n",
    "print(most_viewed[['title', 'speaker', 'views']]) "
   ]
  },
  {
   "cell_type": "markdown",
   "metadata": {},
   "source": [
    "I sorted the talks by view count to find the most popular ones. This sorting reveals which topics and speakers have drawn the largest audiences."
   ]
  },
  {
   "cell_type": "code",
   "execution_count": 16,
   "metadata": {},
   "outputs": [
    {
     "name": "stdout",
     "output_type": "stream",
     "text": [
      "\n",
      "Number of talks with over 1M views: 3730\n"
     ]
    }
   ],
   "source": [
    "# Boolean indexing \n",
    "popular_talks = df[df['views'] > 1_000_000]\n",
    "print(f\"\\nNumber of talks with over 1M views: {len(popular_talks)}\")"
   ]
  },
  {
   "cell_type": "markdown",
   "metadata": {},
   "source": [
    "I used Boolean indexing to find talks with over 1 million views. This count shows me how many talks reached a large audience."
   ]
  },
  {
   "cell_type": "code",
   "execution_count": 17,
   "metadata": {},
   "outputs": [
    {
     "data": {
      "image/png": "[encoded data removed]",
      "text/plain": [
       "<Figure size 1000x600 with 1 Axes>"
      ]
     },
     "metadata": {},
     "output_type": "display_data"
    }
   ],
   "source": [
    "# Visualization\n",
    "plt.figure(figsize=(10, 6))\n",
    "sns.scatterplot(data=df, x='duration', y='views')\n",
    "plt.title('Relationship between Talk Duration and Views')\n",
    "plt.xlabel('Duration (minutes)')\n",
    "plt.ylabel('Views')\n",
    "plt.show()"
   ]
  },
  {
   "cell_type": "markdown",
   "metadata": {},
   "source": [
    "I created a scatter plot to see if talk length relates to view count. This visualization helps me spot any patterns between a talk's duration and its popularity."
   ]
  },
  {
   "cell_type": "code",
   "execution_count": 18,
   "metadata": {},
   "outputs": [
    {
     "name": "stdout",
     "output_type": "stream",
     "text": [
      "0       27\n",
      "1       16\n",
      "2       19\n",
      "3       31\n",
      "4       27\n",
      "        ..\n",
      "5696    25\n",
      "5697    45\n",
      "5698    46\n",
      "5699    45\n",
      "5700    46\n",
      "Name: title_length, Length: 5701, dtype: int64\n"
     ]
    }
   ],
   "source": [
    "df['title_length'] = df['title'].apply(lambda x: len(str(x)))\n",
    "print(df['title_length'])"
   ]
  },
  {
   "cell_type": "markdown",
   "metadata": {},
   "source": [
    "I used a lambda function to measure each title's length. This measurement lets me see if shorter or longer titles attract more views.\n"
   ]
  },
  {
   "cell_type": "code",
   "execution_count": 19,
   "metadata": {},
   "outputs": [],
   "source": [
    "# Subset of data (talks from 2020 onwards)\n",
    "df['published_date'] = pd.to_datetime(df['published_date'])  # Convert to datetime\n",
    "recent_talks = df[df['published_date'] >= '2020-01-01']"
   ]
  },
  {
   "cell_type": "markdown",
   "metadata": {},
   "source": [
    "I created a subset of talks from 2020 onwards. This filtering shows me recent trends in TED talks.\n"
   ]
  },
  {
   "cell_type": "code",
   "execution_count": null,
   "metadata": {},
   "outputs": [],
   "source": [
    "df.to_csv('processed_ted_talks.csv', index=False)"
   ]
  },
  {
   "cell_type": "markdown",
   "metadata": {},
   "source": [
    "I saved my processed dataset to a CSV file for future use."
   ]
  }
 ],
 "metadata": {
  "kernelspec": {
   "display_name": "Python 3.9.13 ('base')",
   "language": "python",
   "name": "python3"
  },
  "language_info": {
   "codemirror_mode": {
    "name": "ipython",
    "version": 3
   },
   "file_extension": ".py",
   "mimetype": "text/x-python",
   "name": "python",
   "nbconvert_exporter": "python",
   "pygments_lexer": "ipython3",
   "version": "3.12.2"
  },
  "orig_nbformat": 4,
  "vscode": {
   "interpreter": {
    "hash": "8dcec0646a07c19faac6e577348c983076331677812979f00c2f3a5261c6c12e"
   }
  }
 },
 "nbformat": 4,
 "nbformat_minor": 2
}
